{
 "cells": [
  {
   "cell_type": "markdown",
   "metadata": {},
   "source": [
    "# 3D Volume to Volume GAN"
   ]
  },
  {
   "cell_type": "code",
   "execution_count": 1,
   "metadata": {},
   "outputs": [
    {
     "name": "stderr",
     "output_type": "stream",
     "text": [
      "C:\\ProgramData\\Anaconda3\\lib\\site-packages\\h5py\\__init__.py:34: FutureWarning: Conversion of the second argument of issubdtype from `float` to `np.floating` is deprecated. In future, it will be treated as `np.float64 == np.dtype(float).type`.\n",
      "  from ._conv import register_converters as _register_converters\n"
     ]
    }
   ],
   "source": [
    "%matplotlib inline\n",
    "\n",
    "import numpy as np\n",
    "import sys\n",
    "import tensorflow as tf\n",
    "import matplotlib.pyplot as plt\n",
    "from glob import glob\n",
    "from skimage import io\n",
    "from skimage.transform import resize\n",
    "import time"
   ]
  },
  {
   "cell_type": "code",
   "execution_count": 2,
   "metadata": {},
   "outputs": [
    {
     "name": "stderr",
     "output_type": "stream",
     "text": [
      "Using TensorFlow backend.\n"
     ]
    }
   ],
   "source": [
    "%load_ext autoreload\n",
    "%autoreload 2\n",
    "\n",
    "sys.path.insert(0, '../scripts')\n",
    "\n",
    "import pix3pix as p3p\n",
    "import helper as hp\n",
    "import data_loader3D as dl\n",
    "import deconvolution as deconv\n",
    "\n",
    "sys.path.insert(0, '../scripts/NanoImagingPack')\n",
    "from microscopy import PSF3D"
   ]
  },
  {
   "cell_type": "code",
   "execution_count": 3,
   "metadata": {
    "collapsed": true
   },
   "outputs": [],
   "source": [
    "import warnings\n",
    "warnings.filterwarnings(\"ignore\")"
   ]
  },
  {
   "cell_type": "markdown",
   "metadata": {},
   "source": [
    "## look for the data"
   ]
  },
  {
   "cell_type": "code",
   "execution_count": 4,
   "metadata": {},
   "outputs": [
    {
     "name": "stdout",
     "output_type": "stream",
     "text": [
      "dimensions of volumes:\n",
      "(9, 1024, 1024)\n",
      "(9, 1024, 1024)\n",
      "(9, 1024, 1024)\n",
      "(9, 1024, 1024)\n",
      "(9, 1024, 1024)\n",
      "(9, 1024, 1024)\n",
      "(9, 1024, 1024)\n",
      "(9, 1024, 1024)\n",
      "(9, 1024, 1024)\n",
      "(9, 1024, 1024)\n"
     ]
    }
   ],
   "source": [
    "dataset_name = 'NESb'\n",
    "path = glob('../data/3D/{0}/*'.format(dataset_name))\n",
    "path = [item for item in path if not item.endswith('.txt')]\n",
    "\n",
    "dl.print_volume_dimension(path)"
   ]
  },
  {
   "cell_type": "markdown",
   "metadata": {},
   "source": [
    "## create TFRecord file"
   ]
  },
  {
   "cell_type": "code",
   "execution_count": 5,
   "metadata": {
    "collapsed": true
   },
   "outputs": [],
   "source": [
    "vol_dim = (128, 128, 9)\n",
    "\n",
    "data_loader = dl.DataLoader3D(dataset_name='NESb', vol_resize=vol_dim)\n",
    "filename = '../data/TFRecords/{0}_train.tfrecords'.format(dataset_name)\n",
    "\n",
    "# data_loader.writeTFRecord(filename)"
   ]
  },
  {
   "cell_type": "markdown",
   "metadata": {},
   "source": [
    "## test the 3D psf for a random volume"
   ]
  },
  {
   "cell_type": "code",
   "execution_count": 6,
   "metadata": {},
   "outputs": [
    {
     "name": "stdout",
     "output_type": "stream",
     "text": [
      "image after resize in x/y dimension: (128, 128, 9)\n",
      "stack number:\t\t\t 3 / 9\n",
      "Time for compute OTF:\t\t 0.03952598571777344 s\n",
      "Time for convolve with numpy:\t 0.024517297744750977 s\n"
     ]
    }
   ],
   "source": [
    "path = '../data/3D/NESb/NESb_C2_TP1.tiff'\n",
    "vol = io.imread(path)\n",
    "vol = hp.swapAxes(vol, swap=True)\n",
    "vol = resize(image=vol, output_shape=vol_dim)\n",
    "print('image after resize in x/y dimension:', vol.shape)\n",
    "\n",
    "# compute OTF\n",
    "start_otf = time.time()\n",
    "otf = PSF3D(im=vol.shape, ret_val = 'OTF')\n",
    "end_otf = time.time()\n",
    "\n",
    "# perform convolution on stack with computed otf (with numpy)\n",
    "start_conv_np = time.time()\n",
    "vol_otf = deconv.conv3d_fft(vol, otf)\n",
    "end_conv_np = time.time()\n",
    "\n",
    "# perform convolution on stack with computed otf (with tensorflow)\n",
    "# start_conv_tf = time.time()\n",
    "# vol_otf_tf = deconv.conv3d_fft_tf(vol, otf)\n",
    "# end_conv_tf = time.time()\n",
    "\n",
    "# select a random stacks\n",
    "i = np.random.randint(low=0, high=vol.shape[2], size=1)[0]\n",
    "print('stack number:\\t\\t\\t', i+1,'/',vol.shape[2])\n",
    "img = vol[:,:,i]\n",
    "img_otf = vol_otf[:,:,i]\n",
    "# img_otf_tf = vol_otf_tf[:,:,i]\n",
    "\n",
    "print('Time for compute OTF:\\t\\t', end_otf - start_otf, 's')\n",
    "print('Time for convolve with numpy:\\t', end_conv_np - start_conv_np, 's')\n",
    "# print('Time for convolve with tensorflow:\\t', end_conv_tf - start_conv_tf, 's')"
   ]
  },
  {
   "cell_type": "code",
   "execution_count": 10,
   "metadata": {},
   "outputs": [
    {
     "data": {
      "image/png": "[encoded data removed]",
      "text/plain": [
       "<matplotlib.figure.Figure at 0x1c3675c6f98>"
      ]
     },
     "metadata": {},
     "output_type": "display_data"
    }
   ],
   "source": [
    "f = plt.figure(figsize=(15,10))\n",
    "plt.subplot(121); plt.imshow(img, cmap='gray'); \n",
    "plt.xticks([]); plt.yticks([]); plt.title('original stack', fontsize=25)\n",
    "plt.subplot(122); plt.imshow(img_otf, cmap='gray'); \n",
    "plt.xticks([]); plt.yticks([]); plt.title('stack(volume) filtered with OTF', fontsize=22)\n",
    "# plt.subplot(133); plt.imshow(img_otf_tf, cmap='gray'); plt.xticks([]); plt.yticks([])\n",
    "plt.show()"
   ]
  },
  {
   "cell_type": "markdown",
   "metadata": {},
   "source": [
    "## initialize the volume to volume GAN"
   ]
  },
  {
   "cell_type": "code",
   "execution_count": 19,
   "metadata": {
    "scrolled": true
   },
   "outputs": [
    {
     "name": "stdout",
     "output_type": "stream",
     "text": [
      "discriminator-resize: (?, 128, 128, 8, 1) (?, 128, 128, 8, 1)\n",
      "discriminator-model in/output:\t (?, 128, 128, 9, 1) (?, 128, 128, 9, 1) \n",
      "\t\t\t\t (?, 16, 16, 1, 1)\n",
      "generator-model input:\t\t (?, 128, 128, 9, 1)\n",
      "<class 'numpy.int32'> -1 resize_stack_0: (?, 128, 128, 9, 1)\n",
      "resize_stack_1: (?, 9, 1, 128, 128)\n",
      "resize_stack_2: (1, 9, 1, 16384)\n",
      "resize_stack_3: (1, 8, 1, 16384) 8\n",
      "resize_stack_4: (1, 8, 1, 128, 128)\n",
      "resize_stack_5: (1, 128, 128, 8, 1)\n",
      "generator-resize: (?, 128, 128, 8, 1)\n",
      "downsampling:\t\t\t (?, 64, 64, 4, 64)\n",
      "downsampling:\t\t\t (?, 32, 32, 2, 128)\n",
      "downsampling:\t\t\t (?, 16, 16, 1, 256)\n",
      "downsampling:\t\t\t (?, 8, 8, 1, 512)\n",
      "downsampling:\t\t\t (?, 4, 4, 1, 512)\n",
      "upsampling:\t\t\t (?, 8, 8, 1, 512)\n",
      "upsampling:\t\t\t (?, 16, 16, 1, 256)\n",
      "upsampling:\t\t\t (?, 32, 32, 2, 128)\n",
      "upsampling:\t\t\t (?, 64, 64, 4, 64)\n",
      "generator-resize: (?, 128, 128, 8, 1)\n",
      "generator-model output:\t\t (?, 128, 128, 9, 1) (?, 128, 128, 9, 1)\n",
      "finish Pix3Pix __init__\n"
     ]
    }
   ],
   "source": [
    "volume_resize = vol_dim #(256, 256, 9)\n",
    "directory_name = dataset_name #'NESb'\n",
    "\n",
    "gan = p3p.Pix3Pix(vol_resize=volume_resize, d_name=directory_name,\n",
    "                  stack_manipulation=p3p.MANIPULATION.SPATIAL_MIN)\n",
    "                  \n",
    "                 #.SPATIAL_MIN\n",
    "                 #.SPATIAL_DOWN                  \n",
    "                 #.SPATIAL_UP\n",
    "                 #.FREQUENCY_UP\n",
    "                 #.FREQUENCY_DOWN"
   ]
  },
  {
   "cell_type": "markdown",
   "metadata": {},
   "source": [
    "## train volume to volume GAN"
   ]
  },
  {
   "cell_type": "code",
   "execution_count": null,
   "metadata": {
    "scrolled": true
   },
   "outputs": [],
   "source": [
    "epochs = 1\n",
    "\n",
    "discriminator, generator, combined = gan.train(epochs=epochs, add_noise=True)"
   ]
  },
  {
   "cell_type": "markdown",
   "metadata": {},
   "source": [
    "# release GPU memory"
   ]
  },
  {
   "cell_type": "code",
   "execution_count": null,
   "metadata": {
    "collapsed": true
   },
   "outputs": [],
   "source": [
    "del gan"
   ]
  },
  {
   "cell_type": "code",
   "execution_count": null,
   "metadata": {},
   "outputs": [],
   "source": [
    "try:\n",
    "    del discriminator, generator, combined\n",
    "except:\n",
    "    print('models not available')"
   ]
  },
  {
   "cell_type": "code",
   "execution_count": null,
   "metadata": {},
   "outputs": [],
   "source": [
    "from keras import backend as K\n",
    "import gc\n",
    "\n",
    "K.clear_session()\n",
    "gc.collect()"
   ]
  },
  {
   "cell_type": "markdown",
   "metadata": {},
   "source": [
    "# plot random volume with 3 random stacks of GAN"
   ]
  },
  {
   "cell_type": "code",
   "execution_count": null,
   "metadata": {},
   "outputs": [],
   "source": [
    "result_path = 'images/{0}/*'.format(dataset_name) \n",
    "\n",
    "model_vols = glob(result_path)\n",
    "selected_folder = model_vols[-1]+'/*'\n",
    "\n",
    "volumes = glob(selected_folder)\n",
    "volumes = np.random.choice(volumes, size=1)[0]\n",
    "vol_plot = io.imread(volumes)\n",
    "cut = 120; ed = vol_plot.shape[0]\n",
    "vol_plot = vol_plot[cut:ed-cut, cut:ed-cut , :]\n",
    "\n",
    "print('plotted volume:', volumes, '\\nvolume shape:', vol_plot.shape)\n",
    "f = plt.figure(figsize=(25,25))\n",
    "plt.imshow(vol_plot); plt.xticks([]); plt.yticks([]); plt.title('sampled from the model', fontsize=25);"
   ]
  },
  {
   "cell_type": "code",
   "execution_count": null,
   "metadata": {
    "collapsed": true
   },
   "outputs": [],
   "source": [
    "import tensorflow as tf\n",
    "with tf.device('/gpu:0'):\n",
    "    a = tf.constant(3.0)\n",
    "with tf.Session() as sess:\n",
    "    print(sess.run(a))\n",
    "        \n",
    "# I believe that you need to set CUDA_VISIBLE_DEVICES=1. Or which ever GPU you want to use. \n",
    "#If you make only one GPU visible, you will refer to it as /gpu:0 regardless of what you set the environment variable to.\n",
    "#More info on that environment variable: http://www.acceleware.com/blog/cudavisibledevices-masking-gpus\n",
    "\n",
    "# https://stackoverflow.com/questions/40069883/how-to-set-specific-gpu-in-tensorflow"
   ]
  },
  {
   "cell_type": "code",
   "execution_count": null,
   "metadata": {
    "collapsed": true
   },
   "outputs": [],
   "source": [
    "a = np.arange(9).reshape((3, 3))\n",
    "b = np.arange(9)- 4 \n",
    "b = b.reshape((3, 3))\n",
    "print(a,'\\n\\n', b)"
   ]
  },
  {
   "cell_type": "code",
   "execution_count": null,
   "metadata": {
    "collapsed": true
   },
   "outputs": [],
   "source": [
    "np.linalg.norm(a-b, ord='fro')"
   ]
  },
  {
   "cell_type": "code",
   "execution_count": null,
   "metadata": {},
   "outputs": [],
   "source": [
    "from keras import losses\n",
    "\n",
    "losses.kullback_leibler_divergence\n",
    "losses.mean_squared_error\n",
    "losses.mean_squared_logarithmic_error\n",
    "losses.sparse_categorical_crossentropy\n",
    "\n",
    "tf.image.ResizeMethod.BILINEAR"
   ]
  }
 ],
 "metadata": {
  "kernelspec": {
   "display_name": "Python 3",
   "language": "python",
   "name": "python3"
  },
  "language_info": {
   "codemirror_mode": {
    "name": "ipython",
    "version": 3
   },
   "file_extension": ".py",
   "mimetype": "text/x-python",
   "name": "python",
   "nbconvert_exporter": "python",
   "pygments_lexer": "ipython3",
   "version": "3.6.3"
  }
 },
 "nbformat": 4,
 "nbformat_minor": 2
}
