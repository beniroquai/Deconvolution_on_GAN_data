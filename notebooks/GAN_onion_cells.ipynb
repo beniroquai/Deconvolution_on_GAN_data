{
 "cells": [
  {
   "cell_type": "code",
   "execution_count": 6,
   "metadata": {},
   "outputs": [
    {
     "name": "stdout",
     "output_type": "stream",
     "text": [
      "The autoreload extension is already loaded. To reload it, use:\n",
      "  %reload_ext autoreload\n"
     ]
    },
    {
     "name": "stderr",
     "output_type": "stream",
     "text": [
      "[autoreload of helper failed: Traceback (most recent call last):\n",
      "  File \"C:\\ProgramData\\Anaconda3\\lib\\site-packages\\IPython\\extensions\\autoreload.py\", line 246, in check\n",
      "    superreload(m, reload, self.old_objects)\n",
      "  File \"C:\\ProgramData\\Anaconda3\\lib\\site-packages\\IPython\\extensions\\autoreload.py\", line 369, in superreload\n",
      "    module = reload(module)\n",
      "  File \"C:\\ProgramData\\Anaconda3\\lib\\imp.py\", line 315, in reload\n",
      "    return importlib.reload(module)\n",
      "  File \"C:\\ProgramData\\Anaconda3\\lib\\importlib\\__init__.py\", line 166, in reload\n",
      "    _bootstrap._exec(spec, module)\n",
      "  File \"<frozen importlib._bootstrap>\", line 618, in _exec\n",
      "  File \"<frozen importlib._bootstrap_external>\", line 674, in exec_module\n",
      "  File \"<frozen importlib._bootstrap_external>\", line 781, in get_code\n",
      "  File \"<frozen importlib._bootstrap_external>\", line 741, in source_to_code\n",
      "  File \"<frozen importlib._bootstrap>\", line 219, in _call_with_frames_removed\n",
      "  File \"../scripts\\helper.py\", line 203\n",
      "    def model_saver(path=\"./../models/\", model_instance):\n",
      "                   ^\n",
      "SyntaxError: non-default argument follows default argument\n",
      "]\n"
     ]
    }
   ],
   "source": [
    "%matplotlib inline\n",
    "\n",
    "%load_ext autoreload\n",
    "%autoreload 2\n",
    "\n",
    "import numpy as np\n",
    "import tensorflow as tf\n",
    "import matplotlib.pyplot as plt\n",
    "import random\n",
    "import os\n",
    "import sys\n",
    "import cv2\n",
    "import imutils\n",
    "from glob import glob"
   ]
  },
  {
   "cell_type": "markdown",
   "metadata": {},
   "source": [
    "# Import self written files"
   ]
  },
  {
   "cell_type": "code",
   "execution_count": 7,
   "metadata": {},
   "outputs": [],
   "source": [
    "sys.path.insert(0, '../scripts')\n",
    "\n",
    "import helper as hp\n",
    "import selenium_scrapeImages as sc\n",
    "# import GAN_2D as gan2\n",
    "import pix2pix as p2p\n",
    "import gan as GANS\n",
    "import deconvolution as deco"
   ]
  },
  {
   "cell_type": "code",
   "execution_count": 8,
   "metadata": {
    "collapsed": true
   },
   "outputs": [],
   "source": [
    "searchterm = 'onion_cell'\n",
    "num_images = 500\n",
    "\n",
    "# sc.scrapeImages(searchterm=searchterm, number_images=num_images)"
   ]
  },
  {
   "cell_type": "markdown",
   "metadata": {},
   "source": [
    "# Load and assign data"
   ]
  },
  {
   "cell_type": "code",
   "execution_count": 9,
   "metadata": {
    "collapsed": true
   },
   "outputs": [],
   "source": [
    "category = 'onion_cell'\n",
    "s = 128\n",
    "squared_img_size = (128,128)"
   ]
  },
  {
   "cell_type": "code",
   "execution_count": 10,
   "metadata": {
    "scrolled": true
   },
   "outputs": [
    {
     "name": "stdout",
     "output_type": "stream",
     "text": [
      "shape train images:  (105, 16384)\n",
      "shape test images:  (46, 16384)\n"
     ]
    }
   ],
   "source": [
    "path = '../data/2D/google_search_images/'+category\n",
    "\n",
    "images_original_train = hp.load_tranfer_images(path=path+'/train',squared_img_size=s)\n",
    "images_original_test = hp.load_tranfer_images(path=path+'/test',squared_img_size=s)\n",
    "\n",
    "print('shape train images: ', images_original_train.shape)\n",
    "print('shape test images: ', images_original_test.shape)"
   ]
  },
  {
   "cell_type": "code",
   "execution_count": 11,
   "metadata": {},
   "outputs": [
    {
     "name": "stdout",
     "output_type": "stream",
     "text": [
      "shape train images blurred:  (105, 16384)\n",
      "shape test images blurred:  (46, 16384)\n"
     ]
    }
   ],
   "source": [
    "images_gaussian_5_train = hp.create_blurred_images(input_images=images_original_train,\n",
    "                             noise='gaussian', squared_img_size=128, k_size=5)\n",
    "images_gaussian_5_test = hp.create_blurred_images(input_images=images_original_test,\n",
    "                             noise='gaussian', squared_img_size=128, k_size=5)\n",
    "\n",
    "print('shape train images blurred: ', images_gaussian_5_train.shape)\n",
    "print('shape test images blurred: ', images_gaussian_5_test.shape)"
   ]
  },
  {
   "cell_type": "code",
   "execution_count": 12,
   "metadata": {
    "collapsed": true
   },
   "outputs": [],
   "source": [
    "# images_blur_box_5 = hp.create_blurred_images(input_images=images_original,\n",
    "#                              noise='box', squared_img_size=128, k_size=5)\n",
    "\n",
    "# images_blur_box_5.shape"
   ]
  },
  {
   "cell_type": "markdown",
   "metadata": {},
   "source": [
    "### combine original and blurred images"
   ]
  },
  {
   "cell_type": "code",
   "execution_count": 13,
   "metadata": {
    "collapsed": true
   },
   "outputs": [],
   "source": [
    "# images = np.empty((0, np.square(s)))\n",
    "\n",
    "# images = np.concatenate((images_original_train, images_gaussian_5_train)) \n",
    "\n",
    "# images.shape"
   ]
  },
  {
   "cell_type": "markdown",
   "metadata": {},
   "source": [
    "# Look for a random (blurred) psf-image"
   ]
  },
  {
   "cell_type": "code",
   "execution_count": 14,
   "metadata": {},
   "outputs": [
    {
     "data": {
      "image/png": "[encoded data removed]",
      "text/plain": [
       "<matplotlib.figure.Figure at 0x1ea53d6d048>"
      ]
     },
     "metadata": {},
     "output_type": "display_data"
    },
    {
     "name": "stdout",
     "output_type": "stream",
     "text": [
      "img sizes:  (128, 128) (128, 128)\n"
     ]
    }
   ],
   "source": [
    "random_number = random.randint(0,images_original_train.shape[0])\n",
    "\n",
    "img = images_original_train[random_number].reshape(squared_img_size)\n",
    "img_blur_gaussian = images_gaussian_5_train[random_number].reshape(squared_img_size)\n",
    "\n",
    "plt.figure(figsize=(20,10))\n",
    "plt.subplot(121); plt.imshow(img, cmap='gray')\n",
    "plt.subplot(122); plt.imshow(img_blur_gaussian, cmap='gray')\n",
    "plt.show()\n",
    "\n",
    "print('img sizes: ', img.shape, img_blur_gaussian.shape)"
   ]
  },
  {
   "cell_type": "markdown",
   "metadata": {},
   "source": [
    "# GAN"
   ]
  },
  {
   "cell_type": "code",
   "execution_count": 15,
   "metadata": {
    "collapsed": true,
    "scrolled": false
   },
   "outputs": [],
   "source": [
    "# gan = GANS.GAN(squared_img_size=128)"
   ]
  },
  {
   "cell_type": "code",
   "execution_count": 16,
   "metadata": {},
   "outputs": [
    {
     "name": "stdout",
     "output_type": "stream",
     "text": [
      "(105, 128, 128)\n"
     ]
    }
   ],
   "source": [
    "data = images_original_train.copy()\n",
    "data = np.reshape(data, (data.shape[0],)+squared_img_size)\n",
    "print(data.shape)\n",
    "\n",
    "# gan.train(X_train=data, epochs=600, batch_size=10, sample_interval=60)"
   ]
  },
  {
   "cell_type": "markdown",
   "metadata": {},
   "source": [
    "# Pix2Pix GAN"
   ]
  },
  {
   "cell_type": "code",
   "execution_count": 17,
   "metadata": {},
   "outputs": [
    {
     "name": "stdout",
     "output_type": "stream",
     "text": [
      "finish Pix2Pix __init__\n"
     ]
    }
   ],
   "source": [
    "gan_pix2pix = p2p.Pix2Pix(squared_img_size=s, d_name='onion_cell')"
   ]
  },
  {
   "cell_type": "code",
   "execution_count": 18,
   "metadata": {
    "scrolled": true
   },
   "outputs": [
    {
     "name": "stderr",
     "output_type": "stream",
     "text": [
      "C:\\ProgramData\\Anaconda3\\lib\\site-packages\\scipy\\misc\\pilutil.py:482: FutureWarning: Conversion of the second argument of issubdtype from `int` to `np.signedinteger` is deprecated. In future, it will be treated as `np.int32 == np.dtype(int).type`.\n",
      "  if issubdtype(ts, int):\n",
      "C:\\ProgramData\\Anaconda3\\lib\\site-packages\\scipy\\misc\\pilutil.py:485: FutureWarning: Conversion of the second argument of issubdtype from `float` to `np.floating` is deprecated. In future, it will be treated as `np.float64 == np.dtype(float).type`.\n",
      "  elif issubdtype(type(size), float):\n",
      "C:\\ProgramData\\Anaconda3\\lib\\site-packages\\keras-2.1.5-py3.6.egg\\keras\\engine\\training.py:975: UserWarning: Discrepancy between trainable weights and collected trainable weights, did you set `model.trainable` without calling `model.compile` after ?\n"
     ]
    },
    {
     "name": "stdout",
     "output_type": "stream",
     "text": [
      "[Epoch 0/3] [Batch 0/6] [D loss: 2.797909, acc:  25%] [G loss: 83.382713] time: 0:00:09.371929\n",
      "[Epoch 0/3] [Batch 1/6] [D loss: 4.109931, acc:  22%] [G loss: 73.494286] time: 0:00:10.481659\n",
      "[Epoch 0/3] [Batch 2/6] [D loss: 3.047403, acc:  24%] [G loss: 60.110592] time: 0:00:11.486985\n",
      "[Epoch 0/3] [Batch 3/6] [D loss: 2.066403, acc:  29%] [G loss: 51.279648] time: 0:00:12.789123\n",
      "[Epoch 0/3] [Batch 4/6] [D loss: 2.610724, acc:  23%] [G loss: 43.712688] time: 0:00:13.963393\n",
      "[Epoch 1/3] [Batch 0/6] [D loss: 1.883848, acc:  36%] [G loss: 39.891159] time: 0:00:15.583258\n",
      "[Epoch 1/3] [Batch 1/6] [D loss: 1.369776, acc:  32%] [G loss: 41.335411] time: 0:00:16.530802\n",
      "[Epoch 1/3] [Batch 2/6] [D loss: 1.418299, acc:  27%] [G loss: 51.610050] time: 0:00:17.363616\n",
      "[Epoch 1/3] [Batch 3/6] [D loss: 3.296807, acc:  27%] [G loss: 34.508781] time: 0:00:18.439225\n",
      "[Epoch 1/3] [Batch 4/6] [D loss: 2.119656, acc:  31%] [G loss: 28.874527] time: 0:00:19.519274\n",
      "[Epoch 2/3] [Batch 0/6] [D loss: 1.886482, acc:  31%] [G loss: 29.784027] time: 0:00:21.121866\n",
      "[Epoch 2/3] [Batch 1/6] [D loss: 0.914967, acc:  41%] [G loss: 34.771343] time: 0:00:22.071594\n",
      "[Epoch 2/3] [Batch 2/6] [D loss: 0.980031, acc:  39%] [G loss: 33.593857] time: 0:00:22.926526\n",
      "[Epoch 2/3] [Batch 3/6] [D loss: 0.861574, acc:  38%] [G loss: 26.010262] time: 0:00:23.994067\n",
      "[Epoch 2/3] [Batch 4/6] [D loss: 0.780194, acc:  45%] [G loss: 21.493795] time: 0:00:25.076382\n",
      "\n",
      "Finish training in (hh:mm:ss.ms) 0:00:25.076382\n"
     ]
    }
   ],
   "source": [
    "# gan_pix2pix.train(epochs=30, batch_size=32, sample_interval=100)\n",
    "\n",
    "discriminator, generator, combined = gan_pix2pix.train(epochs=3, batch_size=16, sample_interval=32)"
   ]
  },
  {
   "cell_type": "markdown",
   "metadata": {},
   "source": [
    "## Save models and parameters"
   ]
  },
  {
   "cell_type": "code",
   "execution_count": 26,
   "metadata": {},
   "outputs": [
    {
     "name": "stdout",
     "output_type": "stream",
     "text": [
      "model_saver: propably the folder already exists:  ./../models/2018_5_16\n",
      "model_saver: model successfully saved in:  ./../models/2018_5_16/17_49_46.json\n",
      "model_saver: model successfully saved in:  ./../models/2018_5_16/17_49_46.h5\n"
     ]
    }
   ],
   "source": [
    "hp.model_saver(model_instance=discriminator)"
   ]
  },
  {
   "cell_type": "code",
   "execution_count": 20,
   "metadata": {},
   "outputs": [
    {
     "ename": "TypeError",
     "evalue": "Image data cannot be converted to float",
     "output_type": "error",
     "traceback": [
      "\u001b[1;31m---------------------------------------------------------------------------\u001b[0m",
      "\u001b[1;31mTypeError\u001b[0m                                 Traceback (most recent call last)",
      "\u001b[1;32m<ipython-input-20-18ed79e1b284>\u001b[0m in \u001b[0;36m<module>\u001b[1;34m()\u001b[0m\n\u001b[0;32m      5\u001b[0m \u001b[0mget_ipython\u001b[0m\u001b[1;33m(\u001b[0m\u001b[1;33m)\u001b[0m\u001b[1;33m.\u001b[0m\u001b[0mmagic\u001b[0m\u001b[1;33m(\u001b[0m\u001b[1;34m'matplotlib qt5'\u001b[0m\u001b[1;33m)\u001b[0m\u001b[1;33m\u001b[0m\u001b[0m\n\u001b[0;32m      6\u001b[0m \u001b[0mplt\u001b[0m\u001b[1;33m.\u001b[0m\u001b[0mfigure\u001b[0m\u001b[1;33m(\u001b[0m\u001b[0mfigsize\u001b[0m \u001b[1;33m=\u001b[0m \u001b[1;33m(\u001b[0m\u001b[1;36m20\u001b[0m\u001b[1;33m,\u001b[0m\u001b[1;36m20\u001b[0m\u001b[1;33m)\u001b[0m\u001b[1;33m)\u001b[0m\u001b[1;33m\u001b[0m\u001b[0m\n\u001b[1;32m----> 7\u001b[1;33m \u001b[0mplt\u001b[0m\u001b[1;33m.\u001b[0m\u001b[0mimshow\u001b[0m\u001b[1;33m(\u001b[0m\u001b[0mrandom_img\u001b[0m\u001b[1;33m,\u001b[0m \u001b[0mcmap\u001b[0m\u001b[1;33m=\u001b[0m\u001b[1;34m'gray'\u001b[0m\u001b[1;33m)\u001b[0m\u001b[1;33m\u001b[0m\u001b[0m\n\u001b[0m\u001b[0;32m      8\u001b[0m \u001b[0mplt\u001b[0m\u001b[1;33m.\u001b[0m\u001b[0mshow\u001b[0m\u001b[1;33m(\u001b[0m\u001b[1;33m)\u001b[0m\u001b[1;33m\u001b[0m\u001b[0m\n",
      "\u001b[1;32mC:\\ProgramData\\Anaconda3\\lib\\site-packages\\matplotlib\\pyplot.py\u001b[0m in \u001b[0;36mimshow\u001b[1;34m(X, cmap, norm, aspect, interpolation, alpha, vmin, vmax, origin, extent, shape, filternorm, filterrad, imlim, resample, url, hold, data, **kwargs)\u001b[0m\n\u001b[0;32m   3078\u001b[0m                         \u001b[0mfilternorm\u001b[0m\u001b[1;33m=\u001b[0m\u001b[0mfilternorm\u001b[0m\u001b[1;33m,\u001b[0m \u001b[0mfilterrad\u001b[0m\u001b[1;33m=\u001b[0m\u001b[0mfilterrad\u001b[0m\u001b[1;33m,\u001b[0m\u001b[1;33m\u001b[0m\u001b[0m\n\u001b[0;32m   3079\u001b[0m                         \u001b[0mimlim\u001b[0m\u001b[1;33m=\u001b[0m\u001b[0mimlim\u001b[0m\u001b[1;33m,\u001b[0m \u001b[0mresample\u001b[0m\u001b[1;33m=\u001b[0m\u001b[0mresample\u001b[0m\u001b[1;33m,\u001b[0m \u001b[0murl\u001b[0m\u001b[1;33m=\u001b[0m\u001b[0murl\u001b[0m\u001b[1;33m,\u001b[0m \u001b[0mdata\u001b[0m\u001b[1;33m=\u001b[0m\u001b[0mdata\u001b[0m\u001b[1;33m,\u001b[0m\u001b[1;33m\u001b[0m\u001b[0m\n\u001b[1;32m-> 3080\u001b[1;33m                         **kwargs)\n\u001b[0m\u001b[0;32m   3081\u001b[0m     \u001b[1;32mfinally\u001b[0m\u001b[1;33m:\u001b[0m\u001b[1;33m\u001b[0m\u001b[0m\n\u001b[0;32m   3082\u001b[0m         \u001b[0max\u001b[0m\u001b[1;33m.\u001b[0m\u001b[0m_hold\u001b[0m \u001b[1;33m=\u001b[0m \u001b[0mwashold\u001b[0m\u001b[1;33m\u001b[0m\u001b[0m\n",
      "\u001b[1;32mC:\\ProgramData\\Anaconda3\\lib\\site-packages\\matplotlib\\__init__.py\u001b[0m in \u001b[0;36minner\u001b[1;34m(ax, *args, **kwargs)\u001b[0m\n\u001b[0;32m   1708\u001b[0m                     warnings.warn(msg % (label_namer, func.__name__),\n\u001b[0;32m   1709\u001b[0m                                   RuntimeWarning, stacklevel=2)\n\u001b[1;32m-> 1710\u001b[1;33m             \u001b[1;32mreturn\u001b[0m \u001b[0mfunc\u001b[0m\u001b[1;33m(\u001b[0m\u001b[0max\u001b[0m\u001b[1;33m,\u001b[0m \u001b[1;33m*\u001b[0m\u001b[0margs\u001b[0m\u001b[1;33m,\u001b[0m \u001b[1;33m**\u001b[0m\u001b[0mkwargs\u001b[0m\u001b[1;33m)\u001b[0m\u001b[1;33m\u001b[0m\u001b[0m\n\u001b[0m\u001b[0;32m   1711\u001b[0m         \u001b[0mpre_doc\u001b[0m \u001b[1;33m=\u001b[0m \u001b[0minner\u001b[0m\u001b[1;33m.\u001b[0m\u001b[0m__doc__\u001b[0m\u001b[1;33m\u001b[0m\u001b[0m\n\u001b[0;32m   1712\u001b[0m         \u001b[1;32mif\u001b[0m \u001b[0mpre_doc\u001b[0m \u001b[1;32mis\u001b[0m \u001b[1;32mNone\u001b[0m\u001b[1;33m:\u001b[0m\u001b[1;33m\u001b[0m\u001b[0m\n",
      "\u001b[1;32mC:\\ProgramData\\Anaconda3\\lib\\site-packages\\matplotlib\\axes\\_axes.py\u001b[0m in \u001b[0;36mimshow\u001b[1;34m(self, X, cmap, norm, aspect, interpolation, alpha, vmin, vmax, origin, extent, shape, filternorm, filterrad, imlim, resample, url, **kwargs)\u001b[0m\n\u001b[0;32m   5192\u001b[0m                               resample=resample, **kwargs)\n\u001b[0;32m   5193\u001b[0m \u001b[1;33m\u001b[0m\u001b[0m\n\u001b[1;32m-> 5194\u001b[1;33m         \u001b[0mim\u001b[0m\u001b[1;33m.\u001b[0m\u001b[0mset_data\u001b[0m\u001b[1;33m(\u001b[0m\u001b[0mX\u001b[0m\u001b[1;33m)\u001b[0m\u001b[1;33m\u001b[0m\u001b[0m\n\u001b[0m\u001b[0;32m   5195\u001b[0m         \u001b[0mim\u001b[0m\u001b[1;33m.\u001b[0m\u001b[0mset_alpha\u001b[0m\u001b[1;33m(\u001b[0m\u001b[0malpha\u001b[0m\u001b[1;33m)\u001b[0m\u001b[1;33m\u001b[0m\u001b[0m\n\u001b[0;32m   5196\u001b[0m         \u001b[1;32mif\u001b[0m \u001b[0mim\u001b[0m\u001b[1;33m.\u001b[0m\u001b[0mget_clip_path\u001b[0m\u001b[1;33m(\u001b[0m\u001b[1;33m)\u001b[0m \u001b[1;32mis\u001b[0m \u001b[1;32mNone\u001b[0m\u001b[1;33m:\u001b[0m\u001b[1;33m\u001b[0m\u001b[0m\n",
      "\u001b[1;32mC:\\ProgramData\\Anaconda3\\lib\\site-packages\\matplotlib\\image.py\u001b[0m in \u001b[0;36mset_data\u001b[1;34m(self, A)\u001b[0m\n\u001b[0;32m    598\u001b[0m         if (self._A.dtype != np.uint8 and\n\u001b[0;32m    599\u001b[0m                 not np.can_cast(self._A.dtype, float, \"same_kind\")):\n\u001b[1;32m--> 600\u001b[1;33m             \u001b[1;32mraise\u001b[0m \u001b[0mTypeError\u001b[0m\u001b[1;33m(\u001b[0m\u001b[1;34m\"Image data cannot be converted to float\"\u001b[0m\u001b[1;33m)\u001b[0m\u001b[1;33m\u001b[0m\u001b[0m\n\u001b[0m\u001b[0;32m    601\u001b[0m \u001b[1;33m\u001b[0m\u001b[0m\n\u001b[0;32m    602\u001b[0m         if not (self._A.ndim == 2\n",
      "\u001b[1;31mTypeError\u001b[0m: Image data cannot be converted to float"
     ]
    },
    {
     "data": {
      "image/png": "[encoded data removed]",
      "text/plain": [
       "<matplotlib.figure.Figure at 0x1ec12086710>"
      ]
     },
     "metadata": {},
     "output_type": "display_data"
    }
   ],
   "source": [
    "path = glob('images/%s/*' % (category))\n",
    "random_img_path = np.random.choice(path, size=1)[0]\n",
    "random_img = cv2.imread(random_img_path, 0)\n",
    "\n",
    "%matplotlib qt5\n",
    "plt.figure(figsize = (20,20))\n",
    "plt.imshow(random_img, cmap='gray')\n",
    "plt.show()"
   ]
  },
  {
   "cell_type": "code",
   "execution_count": 58,
   "metadata": {
    "collapsed": true
   },
   "outputs": [],
   "source": [
    "%matplotlib inline"
   ]
  },
  {
   "cell_type": "markdown",
   "metadata": {},
   "source": [
    "# Pix3Pix GAN"
   ]
  },
  {
   "cell_type": "code",
   "execution_count": null,
   "metadata": {
    "collapsed": true
   },
   "outputs": [],
   "source": []
  },
  {
   "cell_type": "markdown",
   "metadata": {
    "collapsed": true
   },
   "source": [
    "# Deconvolution"
   ]
  },
  {
   "cell_type": "code",
   "execution_count": null,
   "metadata": {
    "collapsed": true
   },
   "outputs": [],
   "source": [
    "# kernel = deco.blur_edge(img)\n",
    "# kernel = deco.motion_kernel(100, 50)\n",
    "kernel = deco.defocus_kernel(100)\n",
    "\n",
    "img_deconv = deco.wiener_filter(img, kernel=kernel)\n",
    "\n",
    "print(img_deconv, set(img_deconv[64]))\n",
    "\n",
    "# plt.imshow(img_deconv)"
   ]
  },
  {
   "cell_type": "code",
   "execution_count": null,
   "metadata": {
    "collapsed": true
   },
   "outputs": [],
   "source": [
    "from skimage import color, data, restoration\n",
    "img_t = color.rgb2gray(data.astronaut())\n",
    "from scipy.signal import convolve2d\n",
    "\n",
    "plt.imshow(img_t, cmap='gray')"
   ]
  },
  {
   "cell_type": "code",
   "execution_count": null,
   "metadata": {
    "collapsed": true
   },
   "outputs": [],
   "source": [
    "import scipy.stats as st\n",
    "def gkern(kernlen=21, nsig=3):\n",
    "    \"\"\"Returns a 2D Gaussian kernel array.\"\"\"\n",
    "\n",
    "    interval = (2*nsig+1.)/(kernlen)\n",
    "    x = np.linspace(-nsig-interval/2., nsig+interval/2., kernlen+1)\n",
    "    kern1d = np.diff(st.norm.cdf(x))\n",
    "    kernel_raw = np.sqrt(np.outer(kern1d, kern1d))\n",
    "    kernel = kernel_raw/kernel_raw.sum()\n",
    "    return kernel\n",
    "\n",
    "plt.imshow(gkern(5,5), interpolation='none')\n",
    "kernel = gkern(5,9) \n",
    "np.sum(kernel)"
   ]
  },
  {
   "cell_type": "code",
   "execution_count": null,
   "metadata": {
    "collapsed": true
   },
   "outputs": [],
   "source": [
    "# psf = np.ones((5, 5)) / 25\n",
    "psf = kernel\n",
    "img_t = convolve2d(img_t, psf, 'same')\n",
    "plt.imshow(img_t, cmap='gray')"
   ]
  },
  {
   "cell_type": "code",
   "execution_count": null,
   "metadata": {
    "collapsed": true
   },
   "outputs": [],
   "source": [
    "img_t += 0.1 * img_t.std() * np.random.standard_normal(img_t.shape)\n",
    "# deconvolved_img = restoration.wiener(img_t, psf, 1100)\n",
    "deconvolved = restoration.wiener(img_t, psf, 1, clip=False)\n",
    "\n",
    "plt.imshow(deconvolved, cmap='gray')"
   ]
  },
  {
   "cell_type": "code",
   "execution_count": null,
   "metadata": {
    "collapsed": true
   },
   "outputs": [],
   "source": [
    "deconvolved_t = deco.unsupervised_wiener(img_t, psf)\n",
    "\n",
    "plt.imshow(deconvolved_t, cmap='gray')"
   ]
  }
 ],
 "metadata": {
  "kernelspec": {
   "display_name": "Python 3",
   "language": "python",
   "name": "python3"
  },
  "language_info": {
   "codemirror_mode": {
    "name": "ipython",
    "version": 3
   },
   "file_extension": ".py",
   "mimetype": "text/x-python",
   "name": "python",
   "nbconvert_exporter": "python",
   "pygments_lexer": "ipython3",
   "version": "3.6.3"
  }
 },
 "nbformat": 4,
 "nbformat_minor": 2
}
